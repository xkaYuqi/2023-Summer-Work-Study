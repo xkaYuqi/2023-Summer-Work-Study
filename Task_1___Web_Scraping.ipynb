{
  "nbformat": 4,
  "nbformat_minor": 0,
  "metadata": {
    "colab": {
      "provenance": []
    },
    "kernelspec": {
      "name": "python3",
      "display_name": "Python 3"
    },
    "language_info": {
      "name": "python"
    }
  },
  "cells": [
    {
      "cell_type": "code",
      "execution_count": null,
      "metadata": {
        "colab": {
          "base_uri": "https://localhost:8080/",
          "height": 460
        },
        "id": "ocW1zN0lqzG2",
        "outputId": "5eb4e478-5013-4de9-a23b-ec318db63763"
      },
      "outputs": [
        {
          "output_type": "error",
          "ename": "Forbidden",
          "evalue": "ignored",
          "traceback": [
            "\u001b[0;31m---------------------------------------------------------------------------\u001b[0m",
            "\u001b[0;31mForbidden\u001b[0m                                 Traceback (most recent call last)",
            "\u001b[0;32m<ipython-input-19-f268020b07cf>\u001b[0m in \u001b[0;36m<cell line: 19>\u001b[0;34m()\u001b[0m\n\u001b[1;32m     18\u001b[0m \u001b[0;34m\u001b[0m\u001b[0m\n\u001b[1;32m     19\u001b[0m \u001b[0;32mfor\u001b[0m \u001b[0maccount\u001b[0m \u001b[0;32min\u001b[0m \u001b[0maccounts\u001b[0m\u001b[0;34m:\u001b[0m\u001b[0;34m\u001b[0m\u001b[0;34m\u001b[0m\u001b[0m\n\u001b[0;32m---> 20\u001b[0;31m   \u001b[0muser\u001b[0m \u001b[0;34m=\u001b[0m \u001b[0mapi\u001b[0m\u001b[0;34m.\u001b[0m\u001b[0mget_user\u001b[0m\u001b[0;34m(\u001b[0m\u001b[0mscreen_name\u001b[0m\u001b[0;34m=\u001b[0m\u001b[0maccount\u001b[0m\u001b[0;34m)\u001b[0m\u001b[0;34m\u001b[0m\u001b[0;34m\u001b[0m\u001b[0m\n\u001b[0m\u001b[1;32m     21\u001b[0m   \u001b[0mfollower_count\u001b[0m \u001b[0;34m=\u001b[0m \u001b[0muser\u001b[0m\u001b[0;34m.\u001b[0m\u001b[0mfollowers_count\u001b[0m\u001b[0;34m\u001b[0m\u001b[0;34m\u001b[0m\u001b[0m\n\u001b[1;32m     22\u001b[0m   \u001b[0mlocation\u001b[0m \u001b[0;34m=\u001b[0m \u001b[0muser\u001b[0m\u001b[0;34m.\u001b[0m\u001b[0mlocation\u001b[0m\u001b[0;34m\u001b[0m\u001b[0;34m\u001b[0m\u001b[0m\n",
            "\u001b[0;32m/usr/local/lib/python3.10/dist-packages/tweepy/api.py\u001b[0m in \u001b[0;36mwrapper\u001b[0;34m(*args, **kwargs)\u001b[0m\n\u001b[1;32m     44\u001b[0m             \u001b[0mkwargs\u001b[0m\u001b[0;34m[\u001b[0m\u001b[0;34m'payload_list'\u001b[0m\u001b[0;34m]\u001b[0m \u001b[0;34m=\u001b[0m \u001b[0mpayload_list\u001b[0m\u001b[0;34m\u001b[0m\u001b[0;34m\u001b[0m\u001b[0m\n\u001b[1;32m     45\u001b[0m             \u001b[0mkwargs\u001b[0m\u001b[0;34m[\u001b[0m\u001b[0;34m'payload_type'\u001b[0m\u001b[0;34m]\u001b[0m \u001b[0;34m=\u001b[0m \u001b[0mpayload_type\u001b[0m\u001b[0;34m\u001b[0m\u001b[0;34m\u001b[0m\u001b[0m\n\u001b[0;32m---> 46\u001b[0;31m             \u001b[0;32mreturn\u001b[0m \u001b[0mmethod\u001b[0m\u001b[0;34m(\u001b[0m\u001b[0;34m*\u001b[0m\u001b[0margs\u001b[0m\u001b[0;34m,\u001b[0m \u001b[0;34m**\u001b[0m\u001b[0mkwargs\u001b[0m\u001b[0;34m)\u001b[0m\u001b[0;34m\u001b[0m\u001b[0;34m\u001b[0m\u001b[0m\n\u001b[0m\u001b[1;32m     47\u001b[0m         \u001b[0mwrapper\u001b[0m\u001b[0;34m.\u001b[0m\u001b[0mpayload_list\u001b[0m \u001b[0;34m=\u001b[0m \u001b[0mpayload_list\u001b[0m\u001b[0;34m\u001b[0m\u001b[0;34m\u001b[0m\u001b[0m\n\u001b[1;32m     48\u001b[0m         \u001b[0mwrapper\u001b[0m\u001b[0;34m.\u001b[0m\u001b[0mpayload_type\u001b[0m \u001b[0;34m=\u001b[0m \u001b[0mpayload_type\u001b[0m\u001b[0;34m\u001b[0m\u001b[0;34m\u001b[0m\u001b[0m\n",
            "\u001b[0;32m/usr/local/lib/python3.10/dist-packages/tweepy/api.py\u001b[0m in \u001b[0;36mget_user\u001b[0;34m(self, **kwargs)\u001b[0m\n\u001b[1;32m   2506\u001b[0m         \u001b[0mhttps\u001b[0m\u001b[0;34m:\u001b[0m\u001b[0;34m//\u001b[0m\u001b[0mdeveloper\u001b[0m\u001b[0;34m.\u001b[0m\u001b[0mtwitter\u001b[0m\u001b[0;34m.\u001b[0m\u001b[0mcom\u001b[0m\u001b[0;34m/\u001b[0m\u001b[0men\u001b[0m\u001b[0;34m/\u001b[0m\u001b[0mdocs\u001b[0m\u001b[0;34m/\u001b[0m\u001b[0mtwitter\u001b[0m\u001b[0;34m-\u001b[0m\u001b[0mapi\u001b[0m\u001b[0;34m/\u001b[0m\u001b[0mv1\u001b[0m\u001b[0;34m/\u001b[0m\u001b[0maccounts\u001b[0m\u001b[0;34m-\u001b[0m\u001b[0;32mand\u001b[0m\u001b[0;34m-\u001b[0m\u001b[0musers\u001b[0m\u001b[0;34m/\u001b[0m\u001b[0mfollow\u001b[0m\u001b[0;34m-\u001b[0m\u001b[0msearch\u001b[0m\u001b[0;34m-\u001b[0m\u001b[0mget\u001b[0m\u001b[0;34m-\u001b[0m\u001b[0musers\u001b[0m\u001b[0;34m/\u001b[0m\u001b[0mapi\u001b[0m\u001b[0;34m-\u001b[0m\u001b[0mreference\u001b[0m\u001b[0;34m/\u001b[0m\u001b[0mget\u001b[0m\u001b[0;34m-\u001b[0m\u001b[0musers\u001b[0m\u001b[0;34m-\u001b[0m\u001b[0mshow\u001b[0m\u001b[0;34m\u001b[0m\u001b[0;34m\u001b[0m\u001b[0m\n\u001b[1;32m   2507\u001b[0m         \"\"\"\n\u001b[0;32m-> 2508\u001b[0;31m         return self.request(\n\u001b[0m\u001b[1;32m   2509\u001b[0m             'GET', 'users/show', endpoint_parameters=(\n\u001b[1;32m   2510\u001b[0m                 \u001b[0;34m'user_id'\u001b[0m\u001b[0;34m,\u001b[0m \u001b[0;34m'screen_name'\u001b[0m\u001b[0;34m,\u001b[0m \u001b[0;34m'include_entities'\u001b[0m\u001b[0;34m\u001b[0m\u001b[0;34m\u001b[0m\u001b[0m\n",
            "\u001b[0;32m/usr/local/lib/python3.10/dist-packages/tweepy/api.py\u001b[0m in \u001b[0;36mrequest\u001b[0;34m(self, method, endpoint, endpoint_parameters, params, headers, json_payload, parser, payload_list, payload_type, post_data, files, require_auth, return_cursors, upload_api, use_cache, **kwargs)\u001b[0m\n\u001b[1;32m    263\u001b[0m                 \u001b[0;32mraise\u001b[0m \u001b[0mUnauthorized\u001b[0m\u001b[0;34m(\u001b[0m\u001b[0mresp\u001b[0m\u001b[0;34m)\u001b[0m\u001b[0;34m\u001b[0m\u001b[0;34m\u001b[0m\u001b[0m\n\u001b[1;32m    264\u001b[0m             \u001b[0;32mif\u001b[0m \u001b[0mresp\u001b[0m\u001b[0;34m.\u001b[0m\u001b[0mstatus_code\u001b[0m \u001b[0;34m==\u001b[0m \u001b[0;36m403\u001b[0m\u001b[0;34m:\u001b[0m\u001b[0;34m\u001b[0m\u001b[0;34m\u001b[0m\u001b[0m\n\u001b[0;32m--> 265\u001b[0;31m                 \u001b[0;32mraise\u001b[0m \u001b[0mForbidden\u001b[0m\u001b[0;34m(\u001b[0m\u001b[0mresp\u001b[0m\u001b[0;34m)\u001b[0m\u001b[0;34m\u001b[0m\u001b[0;34m\u001b[0m\u001b[0m\n\u001b[0m\u001b[1;32m    266\u001b[0m             \u001b[0;32mif\u001b[0m \u001b[0mresp\u001b[0m\u001b[0;34m.\u001b[0m\u001b[0mstatus_code\u001b[0m \u001b[0;34m==\u001b[0m \u001b[0;36m404\u001b[0m\u001b[0;34m:\u001b[0m\u001b[0;34m\u001b[0m\u001b[0;34m\u001b[0m\u001b[0m\n\u001b[1;32m    267\u001b[0m                 \u001b[0;32mraise\u001b[0m \u001b[0mNotFound\u001b[0m\u001b[0;34m(\u001b[0m\u001b[0mresp\u001b[0m\u001b[0;34m)\u001b[0m\u001b[0;34m\u001b[0m\u001b[0;34m\u001b[0m\u001b[0m\n",
            "\u001b[0;31mForbidden\u001b[0m: 403 Forbidden\n453 - You currently have Essential access which includes access to Twitter API v2 endpoints only. If you need access to this endpoint, you’ll need to apply for Elevated access via the Developer Portal. You can learn more here: https://developer.twitter.com/en/docs/twitter-api/getting-started/about-twitter-api#v2-access-leve"
          ]
        }
      ],
      "source": [
        "import tweepy\n",
        "\n",
        "# Twitter API credentials\n",
        "consumer_key = \"vmtqekI705kjW2rDbdsHzRnoD\"\n",
        "consumer_secret = \"b6Tkzl1FuCjvbDEr64rKb0yO6uf0pn35EcAe1IAavwD81f3Ev8\"\n",
        "access_token = \"1658029379874615296-dbGkZgsQZBTYmaQA2xLBHuRivDLA5k\"\n",
        "access_token_secret = \"IWj83wM9n1I7PvNmHs66joEzr9dk12BmzNJ5Nc3QM2PyN\"\n",
        "\n",
        "# Authenticate to Twitter\n",
        "auth = tweepy.OAuthHandler(consumer_key, consumer_secret)\n",
        "auth.set_access_token(access_token, access_token_secret)\n",
        "\n",
        "# Create API object\n",
        "api = tweepy.API(auth)\n",
        "\n",
        "# Twitter accounts to scrape\n",
        "accounts = [\"SenTedCruz\", \"SebGorka\"]\n",
        "\n",
        "for account in accounts:\n",
        "  user = api.get_user(screen_name=account)\n",
        "  follower_count = user.followers_count\n",
        "  location = user.location\n",
        "  pinned_tweet_id = user.pinned_tweet_id\n",
        "  profile_bio = user.description\n",
        "\n",
        "  # Display the summarized information\n",
        "  print(\"Account: @{}\".format(account))\n",
        "  print(\"Follower Count:\", follower_count)\n",
        "  print(\"Location:\", location)\n",
        "  print(\"Pinned Tweet ID:\", pinned_tweet_id)\n",
        "  print(\"Profile Bio:\", profile_bio)\n",
        "  print()"
      ]
    },
    {
      "cell_type": "code",
      "source": [
        "import requests\n",
        "\n",
        "# Twitter API v2 endpoint URLs\n",
        "\n",
        "user_url = \"https://api.twitter.com/2/users/by/username/YuqiLiu39324952\"\n",
        "tweet_url = \"https://api.twitter.com/2/tweets/{}\"\n",
        "\n",
        "# Twitter accounts to scrape\n",
        "accounts = [\"SenTedCruz\", \"SebGorka\"]\n",
        "\n",
        "# Twitter API bearer token\n",
        "bearer_token = \"AAAAAAAAAAAAAAAAAAAAALsFngEAAAAAfwNAAbsD8qmb9QQQSlWStHiG7Xo%3DmO7o9R5ZsNUZ0yg0Q0oJccwOeeci9IbSUJZJfEaY5WUIo577H8\"\n",
        "\n",
        "headers = {\n",
        "    \"Authorization\": f\"Bearer {bearer_token}\",\n",
        "    \"User-Agent\": \"v2UserLookupPython\"\n",
        "}\n",
        "\n",
        "def get_user_info(username):\n",
        "    response = requests.get(user_url.format(username), headers=headers)\n",
        "    if response.status_code == 200:\n",
        "        data = response.json()\n",
        "        user = data[\"data\"]\n",
        "        return user\n",
        "    else:\n",
        "        return None\n",
        "\n",
        "def get_tweet_info(tweet_id):\n",
        "    response = requests.get(tweet_url.format(tweet_id), headers=headers)\n",
        "    if response.status_code == 200:\n",
        "        data = response.json()\n",
        "        tweet = data[\"data\"]\n",
        "        return tweet\n",
        "    else:\n",
        "        return None\n",
        "\n",
        "for account in accounts:\n",
        "    user = get_user_info(account)\n",
        "    if user:\n",
        "        follower_count = user.get(\"public_metrics\", {}).get(\"followers_count\", 0)\n",
        "        location = user.get(\"location\", \"\")\n",
        "        pinned_tweet_id = user.get(\"pinned_tweet_id\", \"\")\n",
        "        profile_bio = user.get(\"description\", \"\")\n",
        "        \n",
        "        # Get summarized information about the pinned tweet\n",
        "        if pinned_tweet_id:\n",
        "            tweet = get_tweet_info(pinned_tweet_id)\n",
        "            if tweet:\n",
        "                pinned_tweet_text = tweet.get(\"text\", \"\")\n",
        "                pinned_tweet_author = tweet.get(\"author_id\", \"\")\n",
        "                print(\"Pinned Tweet:\")\n",
        "                print(\"Text:\", pinned_tweet_text)\n",
        "                print(\"Author ID:\", pinned_tweet_author)\n",
        "        \n",
        "        print(\"Account: @{}\".format(account))\n",
        "        print(\"Follower Count:\", follower_count)\n",
        "        print(\"Location:\", location)\n",
        "        print(\"Profile Bio:\", profile_bio)\n",
        "        print()\n",
        "    else:\n",
        "        print(\"Failed to retrieve information for @{}\".format(account))\n"
      ],
      "metadata": {
        "colab": {
          "base_uri": "https://localhost:8080/"
        },
        "id": "cMC4wh6BurxD",
        "outputId": "bc6f8c40-0129-4fa5-f2cd-772a635f910f"
      },
      "execution_count": null,
      "outputs": [
        {
          "output_type": "stream",
          "name": "stdout",
          "text": [
            "Failed to retrieve information for @SenTedCruz\n",
            "Failed to retrieve information for @SebGorka\n"
          ]
        }
      ]
    }
  ]
}